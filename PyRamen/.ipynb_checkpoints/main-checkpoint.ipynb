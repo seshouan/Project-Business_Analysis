from pathlib import Path
import csv
import locale

#### INITIALIZE VALUES ####

# Set US currency as default for currency formatting
locale.setlocale(locale.LC_ALL, 'en_US')

# Set the file paths for the menu and sales data
menu_path = Path('Resources/menu_data.csv')
sales_path = Path('Resources/sales_data.csv')

# Initialize variable to hold the menu and sales data
menu = []
sales = []

#### READ DATA ####

# Read data from a file
def read_data_from_file(file_path):
    """
        Reads data from a file and loads it into a dataset that it returns

            Parameters:
                    file_path (str): path string of the file to open
                    
            Returns:
                    dataset (list): list with the file data loaded into it
    """
    with open(file_path, 'r') as data_file:
        data_reader = csv.reader(data_file, delimiter=',')

        # skip the header
        next(data_reader)

        # Populate the dataset
        dataset = []
        for row in data_reader:
            dataset.append(row)
    return dataset

# Load the menu data from the csv file
menu = read_data_from_file(menu_path)
# Load the sales data from the csv file
sales = read_data_from_file(sales_path)

#### MANIPULATE DATA ####

# Define a variable to hold the output
report = {}

# Define a helper function to manage currency outputs
def currency_converter(value):
    """
        Converts a number value into a currency format

            Parameters:
                    value (float): number to be converted to currency
                    
            Returns:
                    (float): currency formated value
    """
    return locale.currency(float(value), grouping=True)

# Provide menu data corresponding to a sales_item
def pull_menu_info(sales_item, menu_data):
    """
        Fetches information from the menu dataset that matches the sales_item

            Parameters:
                    sales_item (str): name of the sales_item to look up in the menu dataset
                    menu_data (list): the menu dataset to search in
                    
            Returns:
                    price (float): price of the matching sales_item
                    cost (float): cost of the matching sales_item
                    match (bool): a flag if there was a match
    """
    # Initialize return variables
    price = 0
    cost = 0
    match = False
    
    # Loop through the menu data to find a match for the sales_item
    for menu_row in menu_data:
        if sales_item == menu_row[0]:
            # Populate the return variables
            price = float(menu_row[3])
            cost = float(menu_row[4])
            match = True
            break
    
    return price, cost, match

# Load and organize sales data in the report
for sales_row in sales:
    # Add the item to the report if it doesn't exist
    if not sales_row[-1] in report:
        report[sales_row[-1]] = {"01-count": 0,"02-revenue": 0,"03-cogs": 0,"04-profit": 0}
    # Populate the item's stats from the sales and menu data
    quantity = int(sales_row[-2])
    price, cost, sales_menu_match = pull_menu_info(sales_row[-1], menu)
    # Populate/update the sales_item's stats from the sales data
    report[sales_row[-1]]["01-count"] += quantity
    # Populate/update the sales_item's stats from the menu data if there was a match
    if sales_menu_match:
        report[sales_row[-1]]["02-revenue"] += price * quantity
        report[sales_row[-1]]["03-cogs"] += cost * quantity
        report[sales_row[-1]]["04-profit"] += (price - cost) * quantity
    # Otherwise replace the sales_item's report entry with "N/A" and an error message
    else:
        report[sales_row[-1]]["02-revenue"] = "N/A"
        report[sales_row[-1]]["03-cogs"] = "N/A"
        report[sales_row[-1]]["04-profit"] = "N/A"
        report[sales_row[-1]]["Error"] = f"{sales_row[-1]} is not in the menu! NO MATCH!"

# Convert all values to dollars for better presentation, if the sales_item was matched to the menu
for entry in report:
    if not "Error" in report[entry]:
        report[entry]["02-revenue"] = currency_converter(report[entry]["02-revenue"])
        report[entry]["03-cogs"] = currency_converter(report[entry]["03-cogs"])
        report[entry]["04-profit"] = currency_converter(report[entry]["04-profit"])
        
#### OUTPUT RESULTS ####
# Save output to file, formated with a single entry per line
output_path = Path('PyRamen.txt')
with open(output_path, 'w') as output_file:
    for item,info in report.items():
        output_file.write(item + " " + str(info) + "\n")
