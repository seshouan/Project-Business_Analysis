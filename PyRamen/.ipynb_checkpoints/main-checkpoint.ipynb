from pathlib import Path
import csv
from statistics import mean
import locale

#### INITIALIZE VALUES ####

# Set US currency as default for currency formatting
locale.setlocale(locale.LC_ALL, 'en_US')

# Set the file path
csvpath = Path('Resources/budget_data.csv')

# Initialize variable to hold the financial data
fin_data = []

#### READ DATA ####

# Load the financial data from the csv file
with open(csvpath, 'r') as csvfile:
    csvreader = csv.reader(csvfile, delimiter=',')
    
    # skip the header
    next(csvreader)

    # Populate the financial data dictionary
    for row in csvreader:
        fin_data.append([row[0],int(row[1])])
