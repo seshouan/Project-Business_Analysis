from pathlib import Path
import csv

#### INITIALIZE VALUES ####

# Set the file paths for the menu and sales data
menu_path = Path('Resources/menu_data.csv')
sales_path = Path('Resources/sales_data.csv')

# Initialize variable to hold the menu and sales data
menu = []
sales = []

#### READ DATA ####

# Read data from a file
def read_data
with open(menu_path, 'r') as menu_file:
    menu_reader = csv.reader(menu_file, delimiter=',')
    
    # skip the header
    next(menu_reader)

    # Populate the financial data dictionary
    for row in menu_reader:
        menu.append(row)

# Load the menu data from the csv file

# Load the sales data from the csv file
with open(sales_path, 'r') as sales_file:
    sales_reader = csv.reader(sales_file, delimiter=',')
    
    # skip the header
    next(sales_reader)

    # Populate the financial data dictionary
    for row in sales_reader:
        sales.append(row)
