from pathlib import Path
import csv
from datetime import datetime

# Set the file path
csvpath = Path('Resources/budget_data.csv')

# Initialize variable to hold the financial data
fin_data = []

# Load the financial data from the csv file
with open(csvpath, 'r') as csvfile:
    csvreader = csv.reader(csvfile, delimiter=',')
    
    # skip the header
    next(csvreader)

    # Populate the financial data dictionary
    for row in csvreader:
        fin_data.append([row[0],int(row[1])])

# track changes from period to period
PL_changes = []
# for entry in fin_data[1:]:
#     PL_changes.append(fin_data[entry].value - fin_data[entry-1].value)

# print the header
print("Financial Analysis")
print("----------------------------")

# The total number of months included in the dataset
print(f"Total Months: {len(fin_data)}")

# The net total amount of Profit/Losses over the entire period
# print(f"Total: {sum(fin_data.values())}")

# The average of the changes in Profit/Losses over the entire period
print(f"Average Change: {None}")

# The greatest increase in profits (date and amount) over the entire period
print(f"Greatest Increase in Profits: {None}")

# The greatest decrease in losses (date and amount) over the entire period
print(f"Greatest Increase in Profits: {None}")


# # Set the output file path
# output_path = Path("output.txt")

# # Open the output_path as a file object in "write" mode ('w')
# # Write a header line and write the contents of 'text' to the file
# with open(output_path, 'w') as file:
#     file.write("This is an output file.\n")
#     file.write(text)
