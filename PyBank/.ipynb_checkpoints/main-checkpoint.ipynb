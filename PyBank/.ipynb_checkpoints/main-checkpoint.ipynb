from pathlib import Path
import csv
from datetime import datetime
from statistics import mean
import locale

# Set the file path
csvpath = Path('Resources/budget_data.csv')

# Initialize variable to hold the financial data
fin_data = []

# Load the financial data from the csv file
with open(csvpath, 'r') as csvfile:
    csvreader = csv.reader(csvfile, delimiter=',')
    
    # skip the header
    next(csvreader)

    # Populate the financial data dictionary
    for row in csvreader:
        fin_data.append([row[0],int(row[1])])

# track changes from period to period
PL_changes = []
for entry in range(1,len(fin_data)):
    PL_changes.append(fin_data[entry][1] - fin_data[entry-1][1])

# output the header
output = "\n" + "Financial Analysis"
output += "\n\n" + "----------------------------"

# The total number of months included in the dataset
output += "\n\n" + f"Total Months: {len(fin_data)}"

# set US currency as default
locale.setlocale(locale.LC_ALL, 'en_US')

# The net total amount of Profit/Losses over the entire period
output += "\n\n" + f"Total: {locale.currency(sum(profit_loss for _,profit_loss in fin_data),grouping=True)}"

# The average of the changes in Profit/Losses over the entire period
output += "\n\n" + f"Average Change: {locale.currency(mean(PL_changes),grouping=True)}"

# The greatest increase in profits (date and amount) over the entire period
output += "\n\n" + f"Greatest Increase in Profits: {fin_data[PL_changes.index(max(PL_changes))+1][0]} ({locale.currency(max(PL_changes),grouping=True)})"

# The greatest decrease in losses (date and amount) over the entire period
output += "\n\n" + f"Greatest Increase in Profits: {fin_data[PL_changes.index(min(PL_changes))+1][0]} ({locale.currency(min(PL_changes),grouping=True)})"

# add a couple of spaces for formating
output += "\n\n"

# print to terminal
print(output)

# save output to file
output_path = Path('PyBank.txt')
with open(output_path, 'w') as output_file:
    output_file.write(output)
