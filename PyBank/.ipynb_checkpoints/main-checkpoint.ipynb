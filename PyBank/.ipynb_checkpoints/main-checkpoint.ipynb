from pathlib import Path
import csv
from datetime import datetime

# Set the file path
csvpath = Path('Resources/budget_data.csv')

# Initialize variable to hold the financial data
fin_data = []

# Initialize line_num variable
line_num = 0

# Open the input path as a file object
with open(csvpath, 'r') as csvfile:

    # Pass in the csv file to the csv.reader() function
    # (with ',' as the delmiter/separator) and return the csvreader object
    csvreader = csv.reader(csvfile, delimiter=',')
        
    # Go to the next row from the start of the file
    # (which is often the first row/header) and iterate line_num by 1
    header = next(csvreader)
    line_num += 1

    # Read each row of data after the header
    for row in csvreader:
        # Populate the financial data dictionary
        fin_data.append({row[0]:int(row[1])})

# print(fin_data)

# The total number of months included in the dataset
print(f"There are {len(fin_data)} months in the data set")

# The net total amount of Profit/Losses over the entire period

# The average of the changes in Profit/Losses over the entire period

# The greatest increase in profits (date and amount) over the entire period

# The greatest decrease in losses (date and amount) over the entire period


# # Set the output file path
# output_path = Path("output.txt")

# # Open the output_path as a file object in "write" mode ('w')
# # Write a header line and write the contents of 'text' to the file
# with open(output_path, 'w') as file:
#     file.write("This is an output file.\n")
#     file.write(text)
