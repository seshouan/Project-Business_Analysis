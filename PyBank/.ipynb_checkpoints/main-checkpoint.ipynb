{
 "cells": [
  {
   "cell_type": "code",
   "execution_count": 1,
   "id": "ff472e90-3163-4288-a602-f5574b4b8d7c",
   "metadata": {},
   "outputs": [],
   "source": [
    "from pathlib import Path\n",
    "import csv\n",
    "from statistics import mean\n",
    "import locale"
   ]
  },
  {
   "cell_type": "code",
   "execution_count": 2,
   "id": "5bde18c6-3c4e-4feb-8045-161a6c0ac728",
   "metadata": {},
   "outputs": [],
   "source": [
    "#### INITIALIZE VALUES ####\n",
    "\n",
    "# Set US currency as default for currency formatting\n",
    "locale.setlocale(locale.LC_ALL, 'en_US')\n",
    "\n",
    "# Set the file path\n",
    "csvpath = Path('Resources/budget_data.csv')\n",
    "\n",
    "# Initialize variable to hold the financial data\n",
    "fin_data = []"
   ]
  },
  {
   "cell_type": "code",
   "execution_count": 3,
   "id": "353c2d0b-b8ba-46dc-b183-8aa7fb0025ee",
   "metadata": {},
   "outputs": [],
   "source": [
    "#### READ DATA ####\n",
    "\n",
    "# Load the financial data from the csv file\n",
    "with open(csvpath, 'r') as csvfile:\n",
    "    csvreader = csv.reader(csvfile, delimiter=',')\n",
    "    \n",
    "    # skip the header\n",
    "    next(csvreader)\n",
    "\n",
    "    # Populate the financial dataset\n",
    "    for row in csvreader:\n",
    "        fin_data.append([row[0],int(row[1])])\n",
    "\n",
    "# Track P/L changes from one period to the next\n",
    "profit_changes = []\n",
    "for entry in range(1,len(fin_data)):\n",
    "    profit_changes.append(fin_data[entry][1] - fin_data[entry-1][1])"
   ]
  },
  {
   "cell_type": "code",
   "execution_count": 4,
   "id": "1a678fe5-dc51-44a0-b3bd-902c668bcee7",
   "metadata": {},
   "outputs": [],
   "source": [
    "#### MANIPULATE DATA ####\n",
    "\n",
    "# Define function to identify the date and amount of the max and min P/L changes. NOTE: not required to use a function, could simply inline the code in the output below\n",
    "def compute_profit_change(financial_data, profit_changes_data, limit_function):\n",
    "    \"\"\"\n",
    "        Computers the date and amount that corresponds to the highest increase or decrease of profit.\n",
    "\n",
    "            Parameters:\n",
    "                    financial_data (list): The financial dataset of the company\n",
    "                    profit_changes_data (list): The list of profit changes from period to period\n",
    "                    limit_function (function): The limit function, max or min, to apply to select the limit data required\n",
    "                    \n",
    "            Returns:\n",
    "                    (str): a string of the date and amount of the max or min profit change\n",
    "    \"\"\"\n",
    "    date = financial_data[profit_changes_data.index(limit_function(profit_changes_data))+1][0]\n",
    "    change_amount = locale.currency(limit_function(profit_changes_data),grouping=True)\n",
    "    return f\"{date} ({change_amount})\"\n",
    "\n",
    "# Output the header, with spacing\n",
    "output = \"\\n\" + \"Financial Analysis\"\n",
    "output += \"\\n\\n\" + \"----------------------------\"\n",
    "\n",
    "# The total number of months included in the dataset\n",
    "output += \"\\n\\n\" + f\"Total Months: {len(fin_data)}\"\n",
    "\n",
    "# The net total amount of Profit/Losses over the entire period\n",
    "output += \"\\n\\n\" + f\"Total: {locale.currency(sum(profit_loss for _,profit_loss in fin_data),grouping=True)}\"\n",
    "\n",
    "# The average of the changes in Profit/Losses over the entire period\n",
    "output += \"\\n\\n\" + f\"Average Change: {locale.currency(mean(profit_changes),grouping=True)}\"\n",
    "\n",
    "# The greatest increase in profits (date and amount) over the entire period\n",
    "output += \"\\n\\n\" + f\"Greatest Increase in Profits: {compute_profit_change(fin_data,profit_changes,max)})\"\n",
    "\n",
    "# The greatest decrease in losses (date and amount) over the entire period\n",
    "output += \"\\n\\n\" + f\"Greatest Decrease in Profits: {compute_profit_change(fin_data,profit_changes,min)})\"\n",
    "\n",
    "# Add a space at the end of the output for better formatting\n",
    "output += \"\\n\""
   ]
  },
  {
   "cell_type": "code",
   "execution_count": 5,
   "id": "de32afbb-ca96-47d7-a9a1-fc958b81916b",
   "metadata": {},
   "outputs": [
    {
     "name": "stdout",
     "output_type": "stream",
     "text": [
      "\n",
      "Financial Analysis\n",
      "\n",
      "----------------------------\n",
      "\n",
      "Total Months: 86\n",
      "\n",
      "Total: $38,382,578.00\n",
      "\n",
      "Average Change: -$2,315.12\n",
      "\n",
      "Greatest Increase in Profits: Feb-2012 ($1,926,159.00))\n",
      "\n",
      "Greatest Decrease in Profits: Sep-2013 (-$2,196,167.00))\n",
      "\n"
     ]
    }
   ],
   "source": [
    "#### OUTPUT RESULTS ####\n",
    "\n",
    "# Print to terminal\n",
    "print(output)\n",
    "\n",
    "# Save output to file\n",
    "output_path = Path('PyBank.txt')\n",
    "with open(output_path, 'w') as output_file:\n",
    "    output_file.write(output)"
   ]
  }
 ],
 "metadata": {
  "kernelspec": {
   "display_name": "Python 3 (ipykernel)",
   "language": "python",
   "name": "python3"
  },
  "language_info": {
   "codemirror_mode": {
    "name": "ipython",
    "version": 3
   },
   "file_extension": ".py",
   "mimetype": "text/x-python",
   "name": "python",
   "nbconvert_exporter": "python",
   "pygments_lexer": "ipython3",
   "version": "3.11.3"
  }
 },
 "nbformat": 4,
 "nbformat_minor": 5
}
