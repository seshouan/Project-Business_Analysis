from pathlib import Path
import csv
from statistics import mean
import locale

#### INITIALIZE VALUES ####

# Set US currency as default for currency formatting
locale.setlocale(locale.LC_ALL, 'en_US')

# Set the file path
csvpath = Path('Resources/budget_data.csv')

# Initialize variable to hold the financial data
fin_data = []

#### READ DATA ####

# Load the financial data from the csv file
with open(csvpath, 'r') as csvfile:
    csvreader = csv.reader(csvfile, delimiter=',')
    
    # skip the header
    next(csvreader)

    # Populate the financial dataset
    for row in csvreader:
        fin_data.append([row[0],int(row[1])])

# Track P/L changes from one period to the next
profit_changes = []
for entry in range(1,len(fin_data)):
    profit_changes.append(fin_data[entry][1] - fin_data[entry-1][1])

#### MANIPULATE DATA ####

# Define function to identify the date and amount of the max and min P/L changes. NOTE: not required to use a function, could simply inline the code in the output below
def compute_profit_change(financial_data, profit_changes_data, limit_function):
    """
        Computers the date and amount that corresponds to the highest increase or decrease of profit.

            Parameters:
                    financial_data (list): The financial dataset of the company
                    profit_changes_data (list): The list of profit changes from period to period
                    limit_function (function): The limit function, max or min, to apply to select the limit data required
                    
            Returns:
                    (str): a string of the date and amount of the max or min profit change
    """
    date = financial_data[profit_changes_data.index(limit_function(profit_changes_data))+1][0]
    change_amount = locale.currency(limit_function(profit_changes_data),grouping=True)
    return f"{date} ({change_amount})"

# Output the header, with spacing
output = "\n" + "Financial Analysis"
output += "\n\n" + "----------------------------"

# The total number of months included in the dataset
output += "\n\n" + f"Total Months: {len(fin_data)}"

# The net total amount of Profit/Losses over the entire period
output += "\n\n" + f"Total: {locale.currency(sum(profit_loss for _,profit_loss in fin_data),grouping=True)}"

# The average of the changes in Profit/Losses over the entire period
output += "\n\n" + f"Average Change: {locale.currency(mean(profit_changes),grouping=True)}"

# The greatest increase in profits (date and amount) over the entire period
output += "\n\n" + f"Greatest Increase in Profits: {compute_profit_change(fin_data,profit_changes,max)})"

# The greatest decrease in losses (date and amount) over the entire period
output += "\n\n" + f"Greatest Decrease in Profits: {compute_profit_change(fin_data,profit_changes,min)})"

# Add a space at the end of the output for better formatting
output += "\n"

#### OUTPUT RESULTS ####

# Print to terminal
print(output)

# Save output to file
output_path = Path('PyBank.txt')
with open(output_path, 'w') as output_file:
    output_file.write(output)
